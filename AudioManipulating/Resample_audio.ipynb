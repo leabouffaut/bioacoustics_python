{
 "cells": [
  {
   "cell_type": "markdown",
   "id": "90dc325c-207b-4ef8-ad2f-f6d9529154c7",
   "metadata": {},
   "source": [
    "# Resample audio file and change format from wav to flac\n",
    "Léa Bouffaut, Ph.D. \n",
    "-- K. Lisa Yang Center for Conservation Bioacoustics\n",
    "-- lea.bouffaut@cornell.edu"
   ]
  },
  {
   "cell_type": "code",
   "execution_count": 1,
   "id": "b9221fb4-e0ae-47c3-895e-b10aff450e58",
   "metadata": {},
   "outputs": [],
   "source": [
    "import librosa\n",
    "from scipy import signal\n",
    "import os\n",
    "import numpy as np\n",
    "import soundfile as sf"
   ]
  },
  {
   "cell_type": "markdown",
   "id": "3ddfb1e0-46b2-4d79-92c9-8ad8799b419b",
   "metadata": {},
   "source": [
    "## Create a function that will resample the audio"
   ]
  },
  {
   "cell_type": "code",
   "execution_count": 2,
   "id": "db1ef3dd-c470-456d-9691-3d3092b22807",
   "metadata": {},
   "outputs": [],
   "source": [
    "def butterworth_filter(filterspec, fs):\n",
    "    \"\"\"\n",
    "    Designs and a butterworth filter see:\n",
    "    https://docs.scipy.org/doc/scipy/reference/generated/scipy.signal.butter.html\n",
    "    Apply as.\n",
    "    trace_filtered = sp.sosfiltfilt(filter_sos, trace_original, axis=1)\n",
    "    Inputs:\n",
    "    :param filterspec:\n",
    "    :param fs:\n",
    "    Outputs:\n",
    "    :return: filter_sos: a butterworth filter\n",
    "    \"\"\"\n",
    "\n",
    "    filter_order, filter_critical_freq, filter_type_str = filterspec\n",
    "    # Build a filter of the desired type\n",
    "    wn = np.array(filter_critical_freq) / (fs / 2)  # convert to angular frequency\n",
    "\n",
    "    filter_sos = signal.butter(filter_order, wn, btype=filter_type_str, output='sos')\n",
    "\n",
    "    return filter_sos\n",
    "\n",
    "def prepare_audio(x, fs, desired_fs):\n",
    "    # 1) the signal is filtered\n",
    "    # Butterworth low-pass filter to remove everything above desired_fs\n",
    "    # If we have to down-sample, the data is bandpass filtered instead\n",
    "    if desired_fs < fs:\n",
    "        sos = butterworth_filter([3, [5, (desired_fs / 2)], 'bandpass'], fs)\n",
    "\n",
    "    else:\n",
    "        sos = butterworth_filter([3, 5, 'hp'], fs)\n",
    "\n",
    "    x = signal.sosfiltfilt(sos, x)\n",
    "\n",
    "    # 2) Resample\n",
    "    x = librosa.resample(\n",
    "        x.T, orig_sr=fs, target_sr=desired_fs)\n",
    "    fs = desired_fs\n",
    "\n",
    "    return x, fs"
   ]
  },
  {
   "cell_type": "markdown",
   "id": "13fd47b6-8497-4f92-9c69-946f55fc4b4a",
   "metadata": {},
   "source": [
    "## Define the paths of orginal audio and new audio\n",
    "The original_audio folder contained a 1 min .wav file sampled at 48 kHz.\n",
    "We want to downsample it to 22 kHz and save it as a .flac file."
   ]
  },
  {
   "cell_type": "code",
   "execution_count": 3,
   "id": "17e7641b-07f5-4906-9d7b-81e5217a3fa2",
   "metadata": {},
   "outputs": [],
   "source": [
    "original_fs_audio_folder = 'original_audio/'\n",
    "new_fs_audio_folder = 'resampled/'                    "
   ]
  },
  {
   "cell_type": "markdown",
   "id": "d20e4268-c1fb-4064-90fb-482d2392d081",
   "metadata": {},
   "source": [
    "(optional) -- Run cell below to make sure we're analyzing the correct folder - it should print the name of the first .wav file in the folder"
   ]
  },
  {
   "cell_type": "code",
   "execution_count": 4,
   "id": "950783de-df94-4718-9e0a-7202b9c42989",
   "metadata": {},
   "outputs": [
    {
     "name": "stdout",
     "output_type": "stream",
     "text": [
      "original_audio/KillerWhale_Skjervøy_48k_20200110-110944.wav\n"
     ]
    }
   ],
   "source": [
    "for file in os.listdir(original_fs_audio_folder):\n",
    "    if file.endswith(\".wav\"):\n",
    "        print(os.path.join(original_fs_audio_folder, file))\n",
    "    break"
   ]
  },
  {
   "cell_type": "markdown",
   "id": "6af279b6-618f-4945-b332-7bb7e6a1ce00",
   "metadata": {},
   "source": [
    "Define the new sampling frequency"
   ]
  },
  {
   "cell_type": "code",
   "execution_count": 5,
   "id": "dc1adef4-6c0d-4fc5-aa94-7f72572a7b62",
   "metadata": {},
   "outputs": [],
   "source": [
    "desired_fs = 22000 #Hz\n",
    "original_file_format = '.wav'\n",
    "desired_file_format = '.flac'"
   ]
  },
  {
   "cell_type": "markdown",
   "id": "9170f945-ba8b-42a6-9991-fc6d9a4730ed",
   "metadata": {},
   "source": [
    "## Resample all audio files and save"
   ]
  },
  {
   "cell_type": "code",
   "execution_count": 6,
   "id": "47e35e8b-b190-4e09-ba6a-472024927b78",
   "metadata": {},
   "outputs": [
    {
     "name": "stdout",
     "output_type": "stream",
     "text": [
      "Processing: original_audio/KillerWhale_Skjervøy_48k_20200110-110944.wav\n",
      "Saved resampled: resampled/KillerWhale_Skjervøy_48k_20200110-110944_resampled_22k.flac\n"
     ]
    }
   ],
   "source": [
    "for file in os.listdir(original_fs_audio_folder):\n",
    "    if file.endswith(original_file_format):\n",
    "        print('Processing: ' + os.path.join(original_fs_audio_folder, file))\n",
    "        \n",
    "        # Load the audio file\n",
    "        x, fs = librosa.load(os.path.join(original_fs_audio_folder, file), sr=None, mono=False)\n",
    "        \n",
    "        # Resample the audio file\n",
    "        x, fs_new = prepare_audio(x, fs, desired_fs)\n",
    "        \n",
    "        # Save the audio file\n",
    "        if desired_fs > 1000:\n",
    "            filename = os.path.join(new_fs_audio_folder, file[0:-4]+'_resampled_'+ str(int(desired_fs/1000))+'k' + desired_file_format)\n",
    "        else:\n",
    "            filename = os.path.join(new_fs_audio_folder, file[0:-4]+'_resampled_'+ str(int(desired_fs))+ desired_file_format)\n",
    "\n",
    "        sf.write(filename, x, fs_new)\n",
    "        print('Saved resampled: ' + filename)"
   ]
  }
 ],
 "metadata": {
  "kernelspec": {
   "display_name": "Python 3 (ipykernel)",
   "language": "python",
   "name": "python3"
  },
  "language_info": {
   "codemirror_mode": {
    "name": "ipython",
    "version": 3
   },
   "file_extension": ".py",
   "mimetype": "text/x-python",
   "name": "python",
   "nbconvert_exporter": "python",
   "pygments_lexer": "ipython3",
   "version": "3.8.16"
  }
 },
 "nbformat": 4,
 "nbformat_minor": 5
}
