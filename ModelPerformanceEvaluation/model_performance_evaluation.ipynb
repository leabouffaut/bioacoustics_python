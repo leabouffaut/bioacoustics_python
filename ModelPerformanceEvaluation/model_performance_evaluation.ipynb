{
 "cells": [
  {
   "cell_type": "markdown",
   "id": "82c7d87e-cab9-4634-8cae-d00266f70903",
   "metadata": {},
   "source": [
    "# Evaluation of model performances\n",
    "Léa Bouffaut, Ph.D. \n",
    "-- K. Lisa Yang Center for Conservation Bioacoustics\n",
    "-- lea.bouffaut@cornell.edu"
   ]
  },
  {
   "cell_type": "code",
   "execution_count": 1,
   "id": "8cd7d8c5-1699-4bbf-b10c-ffb9324717d4",
   "metadata": {},
   "outputs": [],
   "source": [
    "# Import the necessary libraries\n",
    "import csv\n",
    "import audioread\n",
    "import numpy as np\n",
    "from matplotlib import pyplot as plt"
   ]
  },
  {
   "cell_type": "code",
   "execution_count": 2,
   "id": "d068adb8-3610-43a7-9313-e91a2a17c681",
   "metadata": {},
   "outputs": [],
   "source": [
    "import fct_scoring"
   ]
  },
  {
   "cell_type": "markdown",
   "id": "2b33f20a-1f78-4caa-95ea-f5a790f8e32d",
   "metadata": {},
   "source": [
    "## User input"
   ]
  },
  {
   "cell_type": "code",
   "execution_count": 3,
   "id": "92681f22-04d5-43c9-84b2-2a475d6d924f",
   "metadata": {},
   "outputs": [],
   "source": [
    "# model info\n",
    "model_info = {\n",
    "    'model_name': 'BlueWhale_V10',\n",
    "    'clip_length': 10, # s\n",
    "    'overlap': 0,  # s\n",
    "    'score_column': 'Confidence', # (Last column for BirdNet)\n",
    "    'label_col': 'Species',\n",
    "}"
   ]
  },
  {
   "cell_type": "code",
   "execution_count": 4,
   "id": "e4b5bfb9-3aac-47df-99c8-e9bd169ebaa2",
   "metadata": {},
   "outputs": [],
   "source": [
    "# Annotation info\n",
    "performance_info = {\n",
    "    'groundtruth_label_col': 'Tags',#'Type',\n",
    "    'mini_sig_dur_positive': 0.1, # (s) minimum amount of labeled duration to consider clip as a true positive\n",
    "}"
   ]
  },
  {
   "cell_type": "markdown",
   "id": "a7f9465f-8743-4e9b-aa13-3000e117e089",
   "metadata": {},
   "source": [
    "## Set path to folders"
   ]
  },
  {
   "cell_type": "code",
   "execution_count": 5,
   "id": "37019326-b15a-4743-b34c-67b03dc55680",
   "metadata": {},
   "outputs": [],
   "source": [
    "# Directories with the manual labels and model detections\n",
    "path_to_manual_annotations = 'groundtruth/'\n",
    "path_to_model_detections = 'model_detection/'\n",
    "\n",
    "# Directories with the associated audio files\n",
    "path_to_test_audio_files = 'test_audio/'\n",
    "\n",
    "# A csv table with the associations of file names\n",
    "# Col 1: manual annotation file // Col 2: detection file // Col 3: audio file\n",
    "file_correspondance_csv = 'model_perf_file_correspondance.csv'\n",
    "\n",
    "# Read the csv file and get the groundtruth, BirdNET and audio file lists\n",
    "file_list_groundtruth = []; file_list_model = []; file_list_audio = []\n",
    "with open(file_correspondance_csv, newline='') as csvfile:\n",
    "    ff = csv.reader(csvfile, delimiter=',', quotechar='|')\n",
    "    for row in ff:\n",
    "        file_list_groundtruth.append(path_to_manual_annotations + row[0])\n",
    "        file_list_model.append(path_to_model_detections + row[1])\n",
    "        file_list_audio.append(path_to_test_audio_files + row[2])\n",
    "        \n",
    "# From the duration of each audio file determine the number of model clips\n",
    "clip_number = [];\n",
    "for audiofile in file_list_audio:\n",
    "    with audioread.audio_open(audiofile) as sf:\n",
    "        clip_number.append(int(np.ceil((sf.duration - model_info['overlap'])/(model_info['clip_length'] -model_info['overlap']))))\n",
    "\n",
    "# Save the info in model_info\n",
    "model_info['clip_number'] = clip_number\n",
    "                           \n",
    "# clear unnecessary variables\n",
    "del path_to_manual_annotations, path_to_model_detections, path_to_test_audio_files, file_correspondance_csv"
   ]
  },
  {
   "cell_type": "markdown",
   "id": "b6707aca-e4f1-4e82-bd4b-64365b9eed79",
   "metadata": {},
   "source": [
    "## Map label correspondance"
   ]
  },
  {
   "cell_type": "code",
   "execution_count": 6,
   "id": "4d44044c-0b23-4018-ad6a-cbf5691ce4c3",
   "metadata": {},
   "outputs": [
    {
     "name": "stdout",
     "output_type": "stream",
     "text": [
      "Unique labels in the ground-truth data:  ['ABW']\n"
     ]
    }
   ],
   "source": [
    "# Display the labels the model was trained on\n",
    "unique_labels_groundtruth = fct_scoring.get_unique_labels(file_list_model, model_info['label_col'])\n",
    "print('Unique labels in the ground-truth data: ', unique_labels_groundtruth)"
   ]
  },
  {
   "cell_type": "code",
   "execution_count": 7,
   "id": "33776d1c-645e-41ba-8479-d0136a51cdff",
   "metadata": {},
   "outputs": [
    {
     "name": "stdout",
     "output_type": "stream",
     "text": [
      "Unique labels in the ground-truth data:  ['ABW']\n"
     ]
    }
   ],
   "source": [
    "# Display the labels of the groundtruth test data\n",
    "unique_labels_groundtruth = fct_scoring.get_unique_labels(file_list_groundtruth, performance_info['groundtruth_label_col'])\n",
    "print('Unique labels in the ground-truth data: ', unique_labels_groundtruth)"
   ]
  },
  {
   "cell_type": "code",
   "execution_count": 8,
   "id": "de75cab2-8da1-41f3-899b-f927ed8beaa1",
   "metadata": {},
   "outputs": [],
   "source": [
    "# Remap the Labels of the groundtruth to match training as needed\n",
    "# Labels that are not listed won't be evaluated\n",
    "# Background is the rejected class // no GT for seals or humpback\n",
    "\n",
    "label_correspondance_map = {\n",
    "    # 'groundtruth label': 'model label', \n",
    "    'ABW': 'ABW',\n",
    "}"
   ]
  },
  {
   "cell_type": "markdown",
   "id": "56e19db5-407e-438a-b679-7a4a226b5479",
   "metadata": {},
   "source": [
    "## Evaluate model performances and plot\n",
    "Performance: \n",
    "   * precision = tp/(tp + fp)\n",
    "   * recall = tp/(tp + fn)"
   ]
  },
  {
   "cell_type": "code",
   "execution_count": 9,
   "id": "282a00b8-0eaa-4417-9ec4-694171c21ad1",
   "metadata": {},
   "outputs": [
    {
     "data": {
      "image/png": "[encoded data removed]",
      "text/plain": [
       "<Figure size 432x288 with 1 Axes>"
      ]
     },
     "metadata": {
      "needs_background": "light"
     },
     "output_type": "display_data"
    }
   ],
   "source": [
    "threshold = list(np.arange(0,1.1,0.1))\n",
    "precision, recall, list_labels = fct_scoring.evaluate_precision_recall(label_correspondance_map, file_list_model, file_list_groundtruth, model_info, performance_info, threshold)\n",
    "\n",
    "for label in list_labels:\n",
    "    plt.plot(recall[label],precision[label])\n",
    "    plt.xlabel('Recall')\n",
    "    plt.ylabel('Precision')\n",
    "\n",
    "plt.legend(list_labels)\n",
    "plt.grid()\n",
    "plt.title(model_info['model_name'])\n",
    "plt.xlim(0,1)\n",
    "plt.ylim(0,1)\n",
    "plt.savefig(model_info['model_name'] + '.png')"
   ]
  }
 ],
 "metadata": {
  "kernelspec": {
   "display_name": "Python 3 (ipykernel)",
   "language": "python",
   "name": "python3"
  },
  "language_info": {
   "codemirror_mode": {
    "name": "ipython",
    "version": 3
   },
   "file_extension": ".py",
   "mimetype": "text/x-python",
   "name": "python",
   "nbconvert_exporter": "python",
   "pygments_lexer": "ipython3",
   "version": "3.8.19"
  },
  "toc-autonumbering": false
 },
 "nbformat": 4,
 "nbformat_minor": 5
}
