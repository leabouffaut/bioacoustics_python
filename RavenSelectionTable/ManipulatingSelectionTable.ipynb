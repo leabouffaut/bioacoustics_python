{
 "cells": [
  {
   "cell_type": "markdown",
   "id": "7f128357-a23d-4993-826a-d74550dcf33e",
   "metadata": {
    "tags": []
   },
   "source": [
    "# Import a Raven Selection table in python using Panda\n",
    "\n",
    "Léa Bouffaut, Ph.D. \n",
    "-- K. Lisa Yang Center for Conservation Bioacoustics\n",
    "-- lea.bouffaut@cornell.edu"
   ]
  },
  {
   "cell_type": "code",
   "execution_count": 20,
   "id": "32008119-6e2b-4ec8-a60a-df1fdaa12fc2",
   "metadata": {},
   "outputs": [],
   "source": [
    "import pandas as pd\n",
    "import matplotlib.pyplot as plt\n",
    "import numpy as np  "
   ]
  },
  {
   "cell_type": "markdown",
   "id": "a07ea5a9-8829-46fa-90c4-649d250d17fb",
   "metadata": {},
   "source": [
    "## Import a selection table and read the different Keys\n",
    "The following imports a selection table as a Panda dataframe which offers several functionalities. See https://pandas.pydata.org/docs/index.html for detailed documentation!\n",
    "\n",
    "The 'selection_table_example.txt' has several fields, including annotations on the 'Species', the call type in 'Type', and the confidence of the analysit in the column 'Certainty'."
   ]
  },
  {
   "cell_type": "code",
   "execution_count": 41,
   "id": "1319c44d-d2ea-47f7-a33e-088a0568ca7b",
   "metadata": {},
   "outputs": [
    {
     "name": "stdout",
     "output_type": "stream",
     "text": [
      "<class 'pandas.core.frame.DataFrame'>\n",
      "RangeIndex: 100 entries, 0 to 99\n",
      "Data columns (total 14 columns):\n",
      " #   Column                Non-Null Count  Dtype  \n",
      "---  ------                --------------  -----  \n",
      " 0   Selection             100 non-null    int64  \n",
      " 1   View                  100 non-null    object \n",
      " 2   Channel               100 non-null    int64  \n",
      " 3   Begin Time (s)        100 non-null    float64\n",
      " 4   End Time (s)          100 non-null    float64\n",
      " 5   Low Freq (Hz)         100 non-null    float64\n",
      " 6   High Freq (Hz)        100 non-null    float64\n",
      " 7   Begin Path            100 non-null    object \n",
      " 8   File Offset (s)       100 non-null    float64\n",
      " 9   Delta Time (s)        100 non-null    float64\n",
      " 10  Inband Power (dB FS)  100 non-null    float64\n",
      " 11  Species               100 non-null    object \n",
      " 12  Type                  100 non-null    object \n",
      " 13  Certainty             100 non-null    object \n",
      "dtypes: float64(7), int64(2), object(5)\n",
      "memory usage: 11.1+ KB\n"
     ]
    }
   ],
   "source": [
    "# import the data \n",
    "selection_table_df = pd.read_csv(\"Selection_table_example.txt\", sep='\\t')\n",
    "\n",
    "# Get the global info on the datafreame\n",
    "selection_table_df.info()"
   ]
  },
  {
   "cell_type": "markdown",
   "id": "64e51b26-b4fd-46a8-b9bf-290cabd8e2a4",
   "metadata": {
    "tags": []
   },
   "source": [
    "## Access information in the dataframe"
   ]
  },
  {
   "cell_type": "code",
   "execution_count": 22,
   "id": "284eab76-a823-4c1e-a2a3-2db379fb5f71",
   "metadata": {},
   "outputs": [
    {
     "data": {
      "text/plain": [
       "Index(['Selection', 'View', 'Channel', 'Begin Time (s)', 'End Time (s)',\n",
       "       'Low Freq (Hz)', 'High Freq (Hz)', 'Begin Path', 'File Offset (s)',\n",
       "       'Delta Time (s)', 'Inband Power (dB FS)', 'Species', 'Type',\n",
       "       'Certainty'],\n",
       "      dtype='object')"
      ]
     },
     "execution_count": 22,
     "metadata": {},
     "output_type": "execute_result"
    }
   ],
   "source": [
    "# Find out which are the keys\n",
    "selection_table_df.keys()"
   ]
  },
  {
   "cell_type": "code",
   "execution_count": 42,
   "id": "0568829a-1d47-4942-97cd-6326ad91a992",
   "metadata": {},
   "outputs": [
    {
     "data": {
      "text/plain": [
       "0     non_song\n",
       "1     non_song\n",
       "2     non_song\n",
       "3     non_song\n",
       "4     non_song\n",
       "        ...   \n",
       "95        song\n",
       "96        song\n",
       "97        song\n",
       "98    non_song\n",
       "99    non_song\n",
       "Name: Type, Length: 100, dtype: object"
      ]
     },
     "execution_count": 42,
     "metadata": {},
     "output_type": "execute_result"
    }
   ],
   "source": [
    "# To access a column of the table use dataframe[key]\n",
    "selection_table_df['Type']"
   ]
  },
  {
   "cell_type": "code",
   "execution_count": 43,
   "id": "a489d1ee-9a45-4217-810e-dfd34b30d1d0",
   "metadata": {},
   "outputs": [
    {
     "data": {
      "text/plain": [
       "'non_song'"
      ]
     },
     "execution_count": 43,
     "metadata": {},
     "output_type": "execute_result"
    }
   ],
   "source": [
    "# To access a value within that column use dataframe[key][line]\n",
    "line = 0\n",
    "selection_table_df['Type'][line]"
   ]
  },
  {
   "cell_type": "code",
   "execution_count": 36,
   "id": "d307da0c-bc24-4891-942d-d03c1307b474",
   "metadata": {},
   "outputs": [
    {
     "name": "stdout",
     "output_type": "stream",
     "text": [
      "['non_song' 'song' 'end_unit' 'pre_song']\n"
     ]
    }
   ],
   "source": [
    "# Find out what are the different possibles values in the Type column \n",
    "print(selection_table_df['Type'].unique())"
   ]
  },
  {
   "cell_type": "markdown",
   "id": "315b23d1-b578-4102-8d4d-f986dc8b3e56",
   "metadata": {},
   "source": [
    "## Create a new dataframe with only the lines of the table corresponding to a certain condition"
   ]
  },
  {
   "cell_type": "code",
   "execution_count": 44,
   "id": "89fb4798-9502-4a60-9e98-231fabb39bfa",
   "metadata": {},
   "outputs": [],
   "source": [
    "# Here we take the subset of annotations that have the label 'non_song' in the column 'Type'\n",
    "nonsong_df = selection_table_df[selection_table_df['Type'] == 'non_song']"
   ]
  },
  {
   "cell_type": "code",
   "execution_count": 39,
   "id": "e675e260-e2ae-4a92-8ba7-116e5cd13141",
   "metadata": {},
   "outputs": [
    {
     "data": {
      "text/plain": [
       "51"
      ]
     },
     "execution_count": 39,
     "metadata": {},
     "output_type": "execute_result"
    }
   ],
   "source": [
    "# Count how many selections are in nonsong_df\n",
    "len(nonsong_df)"
   ]
  },
  {
   "cell_type": "code",
   "execution_count": 47,
   "id": "e140dc0b-f55b-45c0-a4a3-259a40696600",
   "metadata": {},
   "outputs": [
    {
     "name": "stdout",
     "output_type": "stream",
     "text": [
      "Selection                                                               1\n",
      "View                                                        Spectrogram 1\n",
      "Channel                                                                 3\n",
      "Begin Time (s)                                                 25206.0075\n",
      "End Time (s)                                                 25206.204005\n",
      "Low Freq (Hz)                                                      87.097\n",
      "High Freq (Hz)                                                     138.71\n",
      "Begin Path              /Volumes/T174/audio/2010/2010_NSB-DWM_PointBar...\n",
      "File Offset (s)                                                    6.0075\n",
      "Delta Time (s)                                                     0.1965\n",
      "Inband Power (dB FS)                                               -63.08\n",
      "Species                                                           bowhead\n",
      "Type                                                             non_song\n",
      "Certainty                                                               M\n",
      "Name: 0, dtype: object\n"
     ]
    }
   ],
   "source": [
    "# Print the first row of nonsong_df\n",
    "print(nonsong_df.iloc[0])"
   ]
  },
  {
   "cell_type": "markdown",
   "id": "725115e4-36cd-4a97-a808-64fe7b2e36c4",
   "metadata": {},
   "source": [
    "## Panda built-in data plots"
   ]
  },
  {
   "cell_type": "code",
   "execution_count": 65,
   "id": "535f79fb-cdbb-4627-9cdc-c3fd44d5f2f6",
   "metadata": {},
   "outputs": [
    {
     "data": {
      "image/png": "[encoded data removed]",
      "text/plain": [
       "<Figure size 1080x1080 with 4 Axes>"
      ]
     },
     "metadata": {
      "needs_background": "light"
     },
     "output_type": "display_data"
    }
   ],
   "source": [
    "ax_dfplot = selection_table_df.hist(column='Inband Power (dB FS)',\n",
    "                             by='Type', \n",
    "                            figsize=(15, 15))\n",
    "\n",
    "for ax in ax_dfplot.flatten():\n",
    "    ax.set_xlabel(\"Inband Power (dB FS)\")\n",
    "    ax.set_ylabel(\"Counts\")"
   ]
  },
  {
   "cell_type": "markdown",
   "id": "5845fd42-51c4-4ab6-aacd-f07d7bdaeaa8",
   "metadata": {},
   "source": [
    "## Loop through each row of your table, before performing to perform an action, e.g. uploading a sound file"
   ]
  },
  {
   "cell_type": "markdown",
   "id": "032f066a-d5d4-4379-a5ae-e30f375f49fe",
   "metadata": {},
   "source": [
    "### Use the following if you have one Raven Selection file per audio file"
   ]
  },
  {
   "cell_type": "code",
   "execution_count": null,
   "id": "a0570287-a365-41a7-8d4d-6b120ea202ac",
   "metadata": {},
   "outputs": [],
   "source": [
    "import librosa\n",
    "\n",
    "# Create a for loop that is going to read one line after the other\n",
    "for rr in len(nonsong_df):\n",
    "    \n",
    "    # Get the information necessary to read the file\n",
    "    begin_time = nonsong_df['Begin Time (s)'][rr]\n",
    "    end_time = nonsong_df['End Time (s)'][rr]\n",
    "    file_name = nonsong_df['Begin Path'][rr]\n",
    "    \n",
    "    # Load the audio (there is no audio linked here, so the following is commented out)\n",
    "    # x, fs = librosa.load(file_name, offset=begin_time, duration=end_time-begin_time  sr=None, mono=False)"
   ]
  },
  {
   "cell_type": "markdown",
   "id": "4035de8b-7f7c-484e-b7c6-b840a49f588c",
   "metadata": {},
   "source": [
    "### Use the following if you have one Raven Selection file for a group of audio files\n",
    "Make sure that you have the column 'File Offset (s)' and 'Begin Path' in your selection table!"
   ]
  },
  {
   "cell_type": "code",
   "execution_count": null,
   "id": "d50ece73-a459-4290-98f8-e1a471aad97e",
   "metadata": {},
   "outputs": [],
   "source": [
    "import librosa\n",
    "\n",
    "# Create a for loop that is going to read one line after the other\n",
    "for rr in len(nonsong_df):\n",
    "    \n",
    "    # Get the information necessary to read the file\n",
    "    file_offset = nonsong_df['File Offset (s)'][rr]\n",
    "    begin_time = nonsong_df['Begin Time (s)'][rr]\n",
    "    end_time = nonsong_df['End Time (s)'][rr]   \n",
    "\n",
    "    file_name = nonsong_df['Begin Path'][rr]\n",
    "    \n",
    "    # Load the audio (there is no audio linked here, so the following is commented out)\n",
    "    # x, fs = librosa.load(file_name, offset=file_offset, duration=end_time-begin_time  sr=None, mono=False)"
   ]
  }
 ],
 "metadata": {
  "kernelspec": {
   "display_name": "Python 3 (ipykernel)",
   "language": "python",
   "name": "python3"
  },
  "language_info": {
   "codemirror_mode": {
    "name": "ipython",
    "version": 3
   },
   "file_extension": ".py",
   "mimetype": "text/x-python",
   "name": "python",
   "nbconvert_exporter": "python",
   "pygments_lexer": "ipython3",
   "version": "3.8.16"
  }
 },
 "nbformat": 4,
 "nbformat_minor": 5
}
